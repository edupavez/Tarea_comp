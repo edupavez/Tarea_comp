{
 "cells": [
  {
   "cell_type": "code",
   "execution_count": 1,
   "metadata": {},
   "outputs": [],
   "source": [
    "from matplotlib import pyplot as pyp\n",
    "import numpy as np"
   ]
  },
  {
   "cell_type": "code",
   "execution_count": 2,
   "metadata": {},
   "outputs": [],
   "source": [
    "#separar los datos en una lista de listas en donde\n",
    "#cada lista contiene una lista con los elementos de entrada y al elemento de salida\n",
    "puntos = list()\n",
    "with open(\"P2grupo_8.csv\", \"r\") as archivo:\n",
    "    contenido = archivo.readlines()[1:]\n",
    "    for linea in contenido:\n",
    "        linea = linea.rstrip(\"\\n\")\n",
    "        linea = linea.split(\",\")\n",
    "        for i in range(len(linea)):\n",
    "            linea[i] = float(linea[i])\n",
    "        puntos.append([[linea[0], linea[1], linea[2]], linea[3]])\n",
    "        \n",
    "#for punto in puntos:\n",
    "#   print(punto)"
   ]
  },
  {
   "cell_type": "code",
   "execution_count": null,
   "metadata": {},
   "outputs": [],
   "source": []
  }
 ],
 "metadata": {
  "kernelspec": {
   "display_name": "Python 3",
   "language": "python",
   "name": "python3"
  },
  "language_info": {
   "codemirror_mode": {
    "name": "ipython",
    "version": 3
   },
   "file_extension": ".py",
   "mimetype": "text/x-python",
   "name": "python",
   "nbconvert_exporter": "python",
   "pygments_lexer": "ipython3",
   "version": "3.10.6"
  },
  "orig_nbformat": 4
 },
 "nbformat": 4,
 "nbformat_minor": 2
}
